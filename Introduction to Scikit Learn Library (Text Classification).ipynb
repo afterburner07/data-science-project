{
 "cells": [
  {
   "cell_type": "code",
   "execution_count": null,
   "id": "5af1d360",
   "metadata": {},
   "outputs": [],
   "source": [
    "import json"
   ]
  },
  {
   "cell_type": "code",
   "execution_count": null,
   "id": "c072c205",
   "metadata": {},
   "outputs": [
    {
     "name": "stdout",
     "output_type": "stream",
     "text": [
      "{\"reviewerID\": \"A1F2H80A1ZNN1N\", \"asin\": \"B00GDM3NQC\", \"reviewerName\": \"Connie Correll\", \"helpful\": [0, 0], \"reviewText\": \"I bought both boxed sets, books 1-5.  Really a great series!  Start book 1 three weeks ago and just finished book 5.  Sloane Monroe is a great character and being able to follow her through both private life and her PI life gets a reader very involved!  Although clues may be right in front of the reader, there are twists and turns that keep one guessing until the last page!  These are books you won't be disappointed with.\", \"overall\": 5.0, \"summary\": \"Can't stop reading!\", \"unixReviewTime\": 1390435200, \"reviewTime\": \"01 23, 2014\"}\n",
      "\n"
     ]
    }
   ],
   "source": [
    "file_name=r\"Books_small_10000.json\"\n",
    "with open (file_name) as f:\n",
    "    for line in f:\n",
    "        print(line)  \n",
    "        break"
   ]
  },
  {
   "cell_type": "code",
   "execution_count": 206,
   "id": "96435ec8",
   "metadata": {},
   "outputs": [],
   "source": [
    "import random\n",
    "\n",
    "class Sentiment:\n",
    "    NEGATIVE = \"NEGATIVE\"\n",
    "    NEUTRAL = \"NEUTRAL\"\n",
    "    POSITIVE = \"POSITIVE\"\n",
    "\n",
    "class Review:\n",
    "    def __init__(self, text, score):\n",
    "        self.text = text\n",
    "        self.score = score\n",
    "        self.sentiment = self.get_sentiment()\n",
    "        \n",
    "    def get_sentiment(self):\n",
    "        if self.score <= 2:\n",
    "            #return 'NEGATIVE'\n",
    "            return Sentiment.NEGATIVE \n",
    "        elif self.score == 3:\n",
    "            #return 'NEUTRAL'\n",
    "            return Sentiment.NEUTRAL\n",
    "        else: #Score of 4 or 5\n",
    "            #return\"POSITIVE\"\n",
    "            return Sentiment.POSITIVE\n",
    "        \n",
    "class ReviewContainer:\n",
    "    def __init__(self, reviews):\n",
    "        self.reviews = reviews\n",
    "        \n",
    "    def get_text(self):\n",
    "        return [x.text for x in self.reviews]\n",
    "    \n",
    "    def get_sentiment(self):\n",
    "        return [x.sentiment for x in self.reviews]\n",
    "        \n",
    "    def evenly_distribute(self):\n",
    "        negative = list(filter(lambda x: x.sentiment == Sentiment.NEGATIVE, self.reviews))\n",
    "        positive = list(filter(lambda x: x.sentiment == Sentiment.POSITIVE, self.reviews))\n",
    "        positive_shrunk = positive[:len(negative)]\n",
    "        self.reviews = negative + positive_shrunk\n",
    "        random.shuffle(self.reviews)"
   ]
  },
  {
   "cell_type": "code",
   "execution_count": 207,
   "id": "5c86704b",
   "metadata": {},
   "outputs": [
    {
     "data": {
      "text/plain": [
       "10000"
      ]
     },
     "execution_count": 207,
     "metadata": {},
     "output_type": "execute_result"
    }
   ],
   "source": [
    "reviews = []\n",
    "with open(file_name) as f:\n",
    "    for line in f:\n",
    "        review = json.loads(line)\n",
    "        reviews.append(Review(review['reviewText'],review['overall']))\n",
    "len(reviews)"
   ]
  },
  {
   "cell_type": "code",
   "execution_count": 208,
   "id": "14b68082",
   "metadata": {},
   "outputs": [
    {
     "name": "stdout",
     "output_type": "stream",
     "text": [
      "Text: I enjoyed this short book. But it was way way to short ....I can see how easily it would have been to add several chapters.\n",
      "Score: 3.0\n",
      "Sentiment: NEUTRAL\n"
     ]
    }
   ],
   "source": [
    "print(\"Text:\",reviews[1].text)\n",
    "print(\"Score:\",reviews[1].score)\n",
    "print(\"Sentiment:\",reviews[1].sentiment)"
   ]
  },
  {
   "cell_type": "code",
   "execution_count": 209,
   "id": "24fd5395",
   "metadata": {},
   "outputs": [],
   "source": [
    "from sklearn.model_selection import train_test_split"
   ]
  },
  {
   "cell_type": "code",
   "execution_count": null,
   "id": "a8d66308",
   "metadata": {},
   "outputs": [],
   "source": [
    "training_set, test_set = train_test_split(reviews, test_size=0.33,random_state=40)\n",
    "\n",
    "train_container = ReviewContainer(training_set)\n",
    "\n",
    "test_container = ReviewContainer(test_set)"
   ]
  },
  {
   "cell_type": "code",
   "execution_count": null,
   "id": "91105445",
   "metadata": {},
   "outputs": [
    {
     "name": "stdout",
     "output_type": "stream",
     "text": [
      "423\n",
      "423\n"
     ]
    }
   ],
   "source": [
    "train_container.evenly_distribute()\n",
    "train_x = train_container.get_text()\n",
    "train_y = train_container.get_sentiment()\n",
    "\n",
    "test_container.evenly_distribute()\n",
    "test_x = test_container.get_text()\n",
    "test_y = test_container.get_sentiment()\n",
    "\n",
    "print(train_y.count(Sentiment.POSITIVE))\n",
    "print(train_y.count(Sentiment.NEGATIVE))"
   ]
  },
  {
   "cell_type": "code",
   "execution_count": null,
   "id": "3a4836cb",
   "metadata": {},
   "outputs": [],
   "source": [
    "from sklearn.feature_extraction.text import CountVectorizer, TfidfVectorizer\n",
    "\n",
    "vectorizer = TfidfVectorizer() \n",
    "\n",
    "# vectorizer.fit(x)\n",
    "# train_x_vectors = vectorizer.transform(x)\n",
    "train_x_vectors = vectorizer.fit_transform(train_x) \n",
    "test_x_vectors = vectorizer.transform(test_x)"
   ]
  },
  {
   "cell_type": "code",
   "execution_count": 258,
   "id": "816a4e02",
   "metadata": {},
   "outputs": [
    {
     "data": {
      "text/plain": [
       "SVC(kernel='linear')"
      ]
     },
     "execution_count": 258,
     "metadata": {},
     "output_type": "execute_result"
    }
   ],
   "source": [
    "from sklearn import svm\n",
    "svm_model = svm.SVC(kernel='linear')\n",
    "svm_model.fit(train_x_vectors, train_y)"
   ]
  },
  {
   "cell_type": "code",
   "execution_count": null,
   "id": "c7af4d7a",
   "metadata": {},
   "outputs": [
    {
     "name": "stdout",
     "output_type": "stream",
     "text": [
      "This is an engaging, interesting, thoughtful book by a former atheist who gradually, kicking and screaming, converts to Catholicism.  A well-told conversion story with depth and humor.\n",
      "Predicted sentiment: ['POSITIVE']\n"
     ]
    }
   ],
   "source": [
    "print(test_x[1])\n",
    "print('Predicted sentiment:',svm_model.predict(test_x_vectors[1]))"
   ]
  },
  {
   "cell_type": "code",
   "execution_count": 284,
   "id": "58d84b4d",
   "metadata": {},
   "outputs": [
    {
     "data": {
      "text/plain": [
       "DecisionTreeClassifier()"
      ]
     },
     "execution_count": 284,
     "metadata": {},
     "output_type": "execute_result"
    }
   ],
   "source": [
    "from sklearn.tree import DecisionTreeClassifier\n",
    "Dec_model = DecisionTreeClassifier()\n",
    "Dec_model.fit(train_x_vectors,train_y)"
   ]
  },
  {
   "cell_type": "code",
   "execution_count": 285,
   "id": "9420abef",
   "metadata": {},
   "outputs": [
    {
     "data": {
      "text/plain": [
       "array(['POSITIVE'], dtype='<U8')"
      ]
     },
     "execution_count": 285,
     "metadata": {},
     "output_type": "execute_result"
    }
   ],
   "source": [
    "Dec_model.predict(test_x_vectors[1])"
   ]
  },
  {
   "cell_type": "code",
   "execution_count": 286,
   "id": "d5fb632b",
   "metadata": {},
   "outputs": [
    {
     "data": {
      "text/plain": [
       "GaussianNB()"
      ]
     },
     "execution_count": 286,
     "metadata": {},
     "output_type": "execute_result"
    }
   ],
   "source": [
    "from sklearn.naive_bayes import GaussianNB\n",
    "\n",
    "NB_model = GaussianNB()\n",
    "NB_model.fit(train_x_vectors.toarray(),train_y) #\"toarray\" converts a sparse matrix to a dense numpy array"
   ]
  },
  {
   "cell_type": "code",
   "execution_count": 287,
   "id": "ffde475c",
   "metadata": {},
   "outputs": [
    {
     "data": {
      "text/plain": [
       "array(['POSITIVE'], dtype='<U8')"
      ]
     },
     "execution_count": 287,
     "metadata": {},
     "output_type": "execute_result"
    }
   ],
   "source": [
    "NB_model.predict(test_x_vectors[1].toarray())"
   ]
  },
  {
   "cell_type": "code",
   "execution_count": 288,
   "id": "ca26ff5a",
   "metadata": {},
   "outputs": [
    {
     "data": {
      "text/plain": [
       "LogisticRegression()"
      ]
     },
     "execution_count": 288,
     "metadata": {},
     "output_type": "execute_result"
    }
   ],
   "source": [
    "from sklearn.linear_model import LogisticRegression\n",
    "\n",
    "LR_model = LogisticRegression()\n",
    "LR_model.fit(train_x_vectors,train_y)"
   ]
  },
  {
   "cell_type": "code",
   "execution_count": 289,
   "id": "2edc7544",
   "metadata": {},
   "outputs": [
    {
     "data": {
      "text/plain": [
       "array(['POSITIVE'], dtype='<U8')"
      ]
     },
     "execution_count": 289,
     "metadata": {},
     "output_type": "execute_result"
    }
   ],
   "source": [
    "LR_model.predict(test_x_vectors[1])"
   ]
  },
  {
   "cell_type": "code",
   "execution_count": 290,
   "id": "e833b3e1",
   "metadata": {},
   "outputs": [
    {
     "name": "stdout",
     "output_type": "stream",
     "text": [
      "SVM Classifier Accuracy: 0.8552036199095022\n",
      "Decision Tree Classifier Accuracy: 0.6764705882352942\n",
      "Naive Bayes Classifier Accuracy: 0.6176470588235294\n",
      "Logistic Regression Classifier Accuracy: 0.8506787330316742\n"
     ]
    }
   ],
   "source": [
    "print(\"SVM Classifier Accuracy:\",svm_model.score(test_x_vectors,test_y)) \n",
    "print(\"Decision Tree Classifier Accuracy:\",Dec_model.score(test_x_vectors,test_y))\n",
    "print(\"Naive Bayes Classifier Accuracy:\",NB_model.score(test_x_vectors.toarray(),test_y))\n",
    "print(\"Logistic Regression Classifier Accuracy:\",LR_model.score(test_x_vectors.toarray(),test_y))"
   ]
  },
  {
   "cell_type": "code",
   "execution_count": 291,
   "id": "06c257ad",
   "metadata": {},
   "outputs": [
    {
     "data": {
      "text/plain": [
       "array([0.85253456, 0.85777778])"
      ]
     },
     "execution_count": 291,
     "metadata": {},
     "output_type": "execute_result"
    }
   ],
   "source": [
    "from sklearn.metrics import f1_score\n",
    "\n",
    "# f1_score(test_y, svm_model.predict(test_x_vectors), average= None, \n",
    "#          labels=[Sentiment.POSITIVE, Sentiment.NEUTRAL, Sentiment.NEGATIVE])\n",
    "#SVM \n",
    "f1_score(test_y, svm_model.predict(test_x_vectors), average= None, \n",
    "         labels=[Sentiment.POSITIVE, Sentiment.NEGATIVE])"
   ]
  },
  {
   "cell_type": "code",
   "execution_count": null,
   "id": "59590546",
   "metadata": {},
   "outputs": [
    {
     "data": {
      "text/plain": [
       "array([0.66510539, 0.68708972])"
      ]
     },
     "execution_count": 292,
     "metadata": {},
     "output_type": "execute_result"
    }
   ],
   "source": [
    "f1_score(test_y, Dec_model.predict(test_x_vectors), average= None, \n",
    "         labels=[Sentiment.POSITIVE, Sentiment.NEGATIVE])"
   ]
  },
  {
   "cell_type": "code",
   "execution_count": null,
   "id": "3449becf",
   "metadata": {},
   "outputs": [
    {
     "name": "stderr",
     "output_type": "stream",
     "text": [
      "C:\\Users\\yesmi\\anaconda3\\lib\\site-packages\\sklearn\\metrics\\_classification.py:1580: UndefinedMetricWarning: F-score is ill-defined and being set to 0.0 in labels with no true nor predicted samples. Use `zero_division` parameter to control this behavior.\n",
      "  _warn_prf(average, \"true nor predicted\", \"F-score is\", len(true_sum))\n"
     ]
    },
    {
     "data": {
      "text/plain": [
       "array([0.60788863, 0.        , 0.62693157])"
      ]
     },
     "execution_count": 293,
     "metadata": {},
     "output_type": "execute_result"
    }
   ],
   "source": [
    "f1_score(test_y, NB_model.predict(test_x_vectors.toarray()), average= None, \n",
    "         labels=[Sentiment.POSITIVE, Sentiment.NEUTRAL, Sentiment.NEGATIVE])"
   ]
  },
  {
   "cell_type": "code",
   "execution_count": 294,
   "id": "a785ff55",
   "metadata": {},
   "outputs": [
    {
     "data": {
      "text/plain": [
       "array([0.84862385, 0.85267857])"
      ]
     },
     "execution_count": 294,
     "metadata": {},
     "output_type": "execute_result"
    }
   ],
   "source": [
    "#Logistic Regression\n",
    "f1_score(test_y, LR_model.predict(test_x_vectors), average= None, \n",
    "         labels=[Sentiment.POSITIVE, Sentiment.NEGATIVE])"
   ]
  },
  {
   "cell_type": "code",
   "execution_count": 295,
   "id": "3dc70f1a",
   "metadata": {},
   "outputs": [
    {
     "data": {
      "text/plain": [
       "array(['NEGATIVE', 'NEGATIVE', 'NEGATIVE'], dtype='<U8')"
      ]
     },
     "execution_count": 295,
     "metadata": {},
     "output_type": "execute_result"
    }
   ],
   "source": [
    "test = [\"very good. excellent book\",\"terrible book, do not recommend\", \"wouldn't recommend it to my worst enenmies\"]\n",
    "\n",
    "vect_test = vectorizer.transform(test)\n",
    "\n",
    "NB_model.predict(vect_test.toarray())"
   ]
  },
  {
   "cell_type": "code",
   "execution_count": 296,
   "id": "c307569b",
   "metadata": {},
   "outputs": [
    {
     "data": {
      "text/plain": [
       "GridSearchCV(cv=5, estimator=SVC(),\n",
       "             param_grid={'C': (1, 4, 8, 16, 32), 'kernel': ('linear', 'rbf')})"
      ]
     },
     "execution_count": 296,
     "metadata": {},
     "output_type": "execute_result"
    }
   ],
   "source": [
    "from sklearn.model_selection import GridSearchCV\n",
    "\n",
    "parameters = {'kernel': ('linear', 'rbf'), 'C': (1,4,8,16,32)}\n",
    "\n",
    "svc = svm.SVC()\n",
    "clf = GridSearchCV(svc, parameters, cv=5)\n",
    "\n",
    "clf.fit(train_x_vectors, train_y)"
   ]
  },
  {
   "cell_type": "code",
   "execution_count": 297,
   "id": "584086b2",
   "metadata": {},
   "outputs": [
    {
     "data": {
      "text/plain": [
       "0.8484162895927602"
      ]
     },
     "execution_count": 297,
     "metadata": {},
     "output_type": "execute_result"
    }
   ],
   "source": [
    "clf.score(test_x_vectors, test_y)"
   ]
  },
  {
   "cell_type": "code",
   "execution_count": null,
   "id": "3598292e",
   "metadata": {},
   "outputs": [],
   "source": [
    "import pickle\n",
    "\n",
    "with open (r'Models\\SVM_sentiment_classifier.pkl'\n",
    "          ,'wb') as f:\n",
    "\n",
    "    pickle.dump(clf, f)"
   ]
  },
  {
   "cell_type": "code",
   "execution_count": null,
   "id": "7579bfc9",
   "metadata": {},
   "outputs": [],
   "source": [
    "with open (r'Models\\SVM_sentiment_classifier.pkl', 'rb') as f:\n",
    "    loaded_clf = pickle.load(f)"
   ]
  },
  {
   "cell_type": "code",
   "execution_count": 302,
   "id": "9566cd53",
   "metadata": {},
   "outputs": [
    {
     "data": {
      "text/plain": [
       "\"Constance Cherry's book is a wealth of information.  What a fresh way to look at worship planning!  I highly recommend to worship planners and worshipers alike!\""
      ]
     },
     "execution_count": 302,
     "metadata": {},
     "output_type": "execute_result"
    }
   ],
   "source": [
    "test_x[0]"
   ]
  },
  {
   "cell_type": "code",
   "execution_count": 301,
   "id": "d86567fd",
   "metadata": {},
   "outputs": [
    {
     "data": {
      "text/plain": [
       "array(['POSITIVE'], dtype='<U8')"
      ]
     },
     "execution_count": 301,
     "metadata": {},
     "output_type": "execute_result"
    }
   ],
   "source": [
    "loaded_clf.predict(test_x_vectors[0])"
   ]
  }
 ],
 "metadata": {
  "kernelspec": {
   "display_name": "Python 3 (ipykernel)",
   "language": "python",
   "name": "python3"
  },
  "language_info": {
   "codemirror_mode": {
    "name": "ipython",
    "version": 3
   },
   "file_extension": ".py",
   "mimetype": "text/x-python",
   "name": "python",
   "nbconvert_exporter": "python",
   "pygments_lexer": "ipython3",
   "version": "3.9.13"
  }
 },
 "nbformat": 4,
 "nbformat_minor": 5
}
